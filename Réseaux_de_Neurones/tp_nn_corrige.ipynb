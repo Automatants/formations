{
  "nbformat": 4,
  "nbformat_minor": 0,
  "metadata": {
    "colab": {
      "provenance": []
    },
    "kernelspec": {
      "name": "python3",
      "display_name": "Python 3"
    },
    "language_info": {
      "name": "python"
    }
  },
  "cells": [
    {
      "cell_type": "markdown",
      "source": [
        "<center><img src=https://automatants.cs-campus.fr/images/logo_mini.png width=\"150\">\n"
      ],
      "metadata": {
        "id": "D3H384nl2PQx"
      }
    },
    {
      "cell_type": "markdown",
      "source": [
        "# TP Réseaux de Neurones"
      ],
      "metadata": {
        "id": "fp9IXMhq2YE0"
      }
    },
    {
      "cell_type": "markdown",
      "source": [
        "La formation théorique c'est bien rigolo, mais maintenant à vous de jouer ! Aujourd'hui on crée notre première IA de nos mains qui va détecter des chiffres manuscrits !"
      ],
      "metadata": {
        "id": "Hewxts832vzu"
      }
    },
    {
      "cell_type": "markdown",
      "source": [
        "**Si vous bloquez sur la moindre chose, n'hésitez pas à faire appel à nous, on est là pour ça**\n",
        "\n",
        "**PS : tout le texte précédé d'un \"#\" correspond à une case à compléter/modifier**"
      ],
      "metadata": {
        "id": "MC0IoxdH3Te4"
      }
    },
    {
      "cell_type": "markdown",
      "source": [
        "##Import des librairies"
      ],
      "metadata": {
        "id": "XSsxF1SV3pRf"
      }
    },
    {
      "cell_type": "markdown",
      "source": [
        "Commençons par importer numpy, matplotlib.pyplot, torch, torch.nn (qu'on nommera nn) et torchvision"
      ],
      "metadata": {
        "id": "yPAITYx13vSB"
      }
    },
    {
      "cell_type": "code",
      "source": [
        "import numpy as np\n",
        "import torch\n",
        "import matplotlib.pyplot as plt\n",
        "import torchvision\n",
        "import torch.nn as nn"
      ],
      "metadata": {
        "id": "HEyS0mw54SqH"
      },
      "execution_count": 1,
      "outputs": []
    },
    {
      "cell_type": "markdown",
      "source": [
        "##Téléchargement du Dataset"
      ],
      "metadata": {
        "id": "KAlHiyUQ4V2p"
      }
    },
    {
      "cell_type": "markdown",
      "source": [
        "Le premier dataset sur lequel on va entraîner un réseau de neurones est MNIST. Ce sont 60 000 images de chiffres de 0 à 9 en noir et blanc avec leur catégorie/label associé. Elles sont de taille 28x28 et de pixels à valeurs dans [0,255]."
      ],
      "metadata": {
        "id": "TQSOXQ7G4bWO"
      }
    },
    {
      "cell_type": "markdown",
      "source": [
        "<center><img src=https://production-media.paperswithcode.com/datasets/MNIST-0000000001-2e09631a_09liOmx.jpg width=\"300\">"
      ],
      "metadata": {
        "id": "QseWqBMh4i1-"
      }
    },
    {
      "cell_type": "markdown",
      "source": [
        "Le code pour télécharger le dataser est déjà fourni. Les images sont normalisées entre 0 et 1 pour votre plus grand plaisir. Il suffit d'exécuter le code fourni"
      ],
      "metadata": {
        "id": "IabzWwa25I0b"
      }
    },
    {
      "cell_type": "code",
      "source": [
        "### Load dataset\n",
        "dataloader = torchvision.datasets.MNIST(root = \"\", download=True)\n",
        "train_size = len(dataloader) * 0.8\n",
        "\n",
        "X = np.empty((len(dataloader), 28,28))\n",
        "Y = np.empty(len(dataloader))\n",
        "\n",
        "for i, (image, label) in enumerate(dataloader):\n",
        "    X[i] = image\n",
        "    Y[i] = label\n",
        "\n",
        "X = X / 255\n",
        "\n",
        "X_train = X[:int(train_size)]\n",
        "Y_train = Y[:int(train_size)]\n",
        "\n",
        "X_test = X[int(train_size):]\n",
        "Y_test = Y[int(train_size):]\n",
        "\n",
        "print(\"Donwloaded Mnist Dataset\")\n",
        "print(\"Dataset size : \", len(dataloader))\n",
        "print(f\"Training using {len(X_train)} examples\")\n",
        "print(f\"Testing using {len(X_test)} examples\")"
      ],
      "metadata": {
        "id": "LWnGU9bx5GlP",
        "colab": {
          "base_uri": "https://localhost:8080/"
        },
        "outputId": "c0f33646-4325-4feb-fdb0-ae979d20aa1a"
      },
      "execution_count": 2,
      "outputs": [
        {
          "output_type": "stream",
          "name": "stdout",
          "text": [
            "Downloading http://yann.lecun.com/exdb/mnist/train-images-idx3-ubyte.gz\n",
            "Failed to download (trying next):\n",
            "HTTP Error 403: Forbidden\n",
            "\n",
            "Downloading https://ossci-datasets.s3.amazonaws.com/mnist/train-images-idx3-ubyte.gz\n",
            "Downloading https://ossci-datasets.s3.amazonaws.com/mnist/train-images-idx3-ubyte.gz to MNIST/raw/train-images-idx3-ubyte.gz\n"
          ]
        },
        {
          "output_type": "stream",
          "name": "stderr",
          "text": [
            "100%|██████████| 9912422/9912422 [00:01<00:00, 5441315.00it/s]\n"
          ]
        },
        {
          "output_type": "stream",
          "name": "stdout",
          "text": [
            "Extracting MNIST/raw/train-images-idx3-ubyte.gz to MNIST/raw\n",
            "\n",
            "Downloading http://yann.lecun.com/exdb/mnist/train-labels-idx1-ubyte.gz\n",
            "Failed to download (trying next):\n",
            "HTTP Error 403: Forbidden\n",
            "\n",
            "Downloading https://ossci-datasets.s3.amazonaws.com/mnist/train-labels-idx1-ubyte.gz\n",
            "Downloading https://ossci-datasets.s3.amazonaws.com/mnist/train-labels-idx1-ubyte.gz to MNIST/raw/train-labels-idx1-ubyte.gz\n"
          ]
        },
        {
          "output_type": "stream",
          "name": "stderr",
          "text": [
            "100%|██████████| 28881/28881 [00:00<00:00, 159123.59it/s]\n"
          ]
        },
        {
          "output_type": "stream",
          "name": "stdout",
          "text": [
            "Extracting MNIST/raw/train-labels-idx1-ubyte.gz to MNIST/raw\n",
            "\n",
            "Downloading http://yann.lecun.com/exdb/mnist/t10k-images-idx3-ubyte.gz\n",
            "Failed to download (trying next):\n",
            "HTTP Error 403: Forbidden\n",
            "\n",
            "Downloading https://ossci-datasets.s3.amazonaws.com/mnist/t10k-images-idx3-ubyte.gz\n",
            "Downloading https://ossci-datasets.s3.amazonaws.com/mnist/t10k-images-idx3-ubyte.gz to MNIST/raw/t10k-images-idx3-ubyte.gz\n"
          ]
        },
        {
          "output_type": "stream",
          "name": "stderr",
          "text": [
            "100%|██████████| 1648877/1648877 [00:01<00:00, 1505486.40it/s]\n"
          ]
        },
        {
          "output_type": "stream",
          "name": "stdout",
          "text": [
            "Extracting MNIST/raw/t10k-images-idx3-ubyte.gz to MNIST/raw\n",
            "\n",
            "Downloading http://yann.lecun.com/exdb/mnist/t10k-labels-idx1-ubyte.gz\n",
            "Failed to download (trying next):\n",
            "HTTP Error 403: Forbidden\n",
            "\n",
            "Downloading https://ossci-datasets.s3.amazonaws.com/mnist/t10k-labels-idx1-ubyte.gz\n",
            "Downloading https://ossci-datasets.s3.amazonaws.com/mnist/t10k-labels-idx1-ubyte.gz to MNIST/raw/t10k-labels-idx1-ubyte.gz\n"
          ]
        },
        {
          "output_type": "stream",
          "name": "stderr",
          "text": [
            "100%|██████████| 4542/4542 [00:00<00:00, 5825849.78it/s]\n"
          ]
        },
        {
          "output_type": "stream",
          "name": "stdout",
          "text": [
            "Extracting MNIST/raw/t10k-labels-idx1-ubyte.gz to MNIST/raw\n",
            "\n",
            "Donwloaded Mnist Dataset\n",
            "Dataset size :  60000\n",
            "Training using 48000 examples\n",
            "Testing using 12000 examples\n"
          ]
        }
      ]
    },
    {
      "cell_type": "markdown",
      "source": [
        "Affichons quelques images du Dataset pour y voir plus clair"
      ],
      "metadata": {
        "id": "ClGwdm3E5NZc"
      }
    },
    {
      "cell_type": "code",
      "source": [
        "### Display data\n",
        "plt.figure(figsize=(10,10))\n",
        "for i in range(25):\n",
        "    plt.subplot(5,5,i+1)\n",
        "    plt.xticks([])\n",
        "    plt.yticks([])\n",
        "    plt.grid(False)\n",
        "    plt.imshow(X_train[i], cmap=plt.cm.binary)\n",
        "    plt.xlabel(Y_train[i])"
      ],
      "metadata": {
        "id": "pFZxUc555Sy_",
        "colab": {
          "base_uri": "https://localhost:8080/",
          "height": 826
        },
        "outputId": "32e8eac9-4c33-4165-faaa-504c6f82100e"
      },
      "execution_count": 3,
      "outputs": [
        {
          "output_type": "display_data",
          "data": {
            "text/plain": [
              "<Figure size 1000x1000 with 25 Axes>"
            ],
            "image/png": "[encoded data removed]"
          },
          "metadata": {}
        }
      ]
    },
    {
      "cell_type": "markdown",
      "source": [
        "Au final qu'avons nous devons nous ? On a à disposition `X_train`, `Y_train`, `X_test`, `Y_test`\n",
        "Commençons par `X_train` et `X_test`"
      ],
      "metadata": {
        "id": "-39UomPv5Wkd"
      }
    },
    {
      "cell_type": "code",
      "source": [
        "X_train.shape, X_test.shape"
      ],
      "metadata": {
        "id": "Vt5RgAI35sDt",
        "colab": {
          "base_uri": "https://localhost:8080/"
        },
        "outputId": "6770ccfc-1c60-4acf-dc4b-7c5f06c5a3cf"
      },
      "execution_count": 4,
      "outputs": [
        {
          "output_type": "execute_result",
          "data": {
            "text/plain": [
              "((48000, 28, 28), (12000, 28, 28))"
            ]
          },
          "metadata": {},
          "execution_count": 4
        }
      ]
    },
    {
      "cell_type": "markdown",
      "source": [
        "Ce qu'on peut remarquer ce que `X_train` contient 48000 examples d'images de taile 28x28\n",
        "`X_train` contient 1200 images de la même taille"
      ],
      "metadata": {
        "id": "a58ZwdIm5ulQ"
      }
    },
    {
      "cell_type": "code",
      "source": [
        "Y_train.shape, Y_test.shape"
      ],
      "metadata": {
        "id": "oOLWVys_51hf",
        "colab": {
          "base_uri": "https://localhost:8080/"
        },
        "outputId": "9a9e0614-c8a5-460c-f342-de5913e5e158"
      },
      "execution_count": 5,
      "outputs": [
        {
          "output_type": "execute_result",
          "data": {
            "text/plain": [
              "((48000,), (12000,))"
            ]
          },
          "metadata": {},
          "execution_count": 5
        }
      ]
    },
    {
      "cell_type": "markdown",
      "source": [
        "Pour `Y_train` et `Y_test`, nous avons pareil 48000 et 12000 examples mais cette fois on a juste des entiers, cela correspond aux labels. Gardez ça en tête !\n"
      ],
      "metadata": {
        "id": "1ffsduRr58AZ"
      }
    },
    {
      "cell_type": "markdown",
      "source": [
        "##Le Réseau de Neurones"
      ],
      "metadata": {
        "id": "gy9Uagqw6CCZ"
      }
    },
    {
      "cell_type": "markdown",
      "source": [
        "Nous pouvons maintenant commencer le TP ! Comme abordé lors de la première formation, nous allons utiliser les réseaux des neuronnes.\n",
        "\n",
        "Pour cela, nous allons procéder en 4  étapes :  :\n",
        "- On va d'abord définir notre réseau\n",
        "- Puis définir une fonction de perte et une métode d'optimization\n",
        "- Ensuite on pourra lancer l'entrainement,\n",
        "- A la fin, on pourra évaluer notre modèle\n"
      ],
      "metadata": {
        "id": "u214e6pD6H5b"
      }
    },
    {
      "cell_type": "markdown",
      "source": [
        "### Définition du modèle\n",
        "\n",
        "Nous allons utiliser le module ```Sequential```  de Pytorch. Vous pouvez trouver des informations utiles dans la documentation de Pytorch : https://pytorch.org/docs/stable/generated/torch.nn.Sequential.html\n",
        "\n",
        "Essayons d'utiliser le couches ```nn.Linear``` et ```nn.ReLU``` pour reproduire le réseau que nous avons présenté lors de la formation ! N'oubliez pas d'ajouter la softmax à la fin !\n"
      ],
      "metadata": {
        "id": "iIb2GXQ66ewS"
      }
    },
    {
      "cell_type": "code",
      "source": [
        "model = nn.Sequential(\n",
        "    nn.Linear(28*28,16),\n",
        "    nn.ReLU(),\n",
        "    nn.Linear(16,16),\n",
        "    nn.ReLU(),\n",
        "    nn.Linear(16,10),\n",
        "    nn.Softmax(1)\n",
        ")"
      ],
      "metadata": {
        "id": "jHLXIog763fR"
      },
      "execution_count": 6,
      "outputs": []
    },
    {
      "cell_type": "markdown",
      "source": [
        "Pour un petit résumé de notre modèle, appelons le"
      ],
      "metadata": {
        "id": "FHB17Rw5662X"
      }
    },
    {
      "cell_type": "code",
      "source": [
        "model"
      ],
      "metadata": {
        "id": "tjf2xpfG6_AF",
        "colab": {
          "base_uri": "https://localhost:8080/"
        },
        "outputId": "0cd9301e-a579-4bae-ff1e-8264a14956fc"
      },
      "execution_count": 7,
      "outputs": [
        {
          "output_type": "execute_result",
          "data": {
            "text/plain": [
              "Sequential(\n",
              "  (0): Linear(in_features=784, out_features=16, bias=True)\n",
              "  (1): ReLU()\n",
              "  (2): Linear(in_features=16, out_features=16, bias=True)\n",
              "  (3): ReLU()\n",
              "  (4): Linear(in_features=16, out_features=10, bias=True)\n",
              "  (5): Softmax(dim=1)\n",
              ")"
            ]
          },
          "metadata": {},
          "execution_count": 7
        }
      ]
    },
    {
      "cell_type": "markdown",
      "source": [
        "### Définition de la fonction de perte et de l'optimizer\n",
        "\n",
        "On va utiliser la function `MSELoss` et le optimizer `Adam` (vous pouvez trouver de la documentation ici :https://pytorch.org/docs/stable/optim.html ):"
      ],
      "metadata": {
        "id": "IJt63efJ7Be3"
      }
    },
    {
      "cell_type": "code",
      "source": [
        "loss_function = nn.MSELoss()\n",
        "optimizer = torch.optim.Adam(model.parameters())"
      ],
      "metadata": {
        "id": "5cXr0k0H7KSn"
      },
      "execution_count": 8,
      "outputs": []
    },
    {
      "cell_type": "markdown",
      "source": [
        "###Entraînement : préparation\n",
        "\n",
        "Avant de lancer la boucle d'entraînement, il faut préparer un peu le terrain :\n",
        "\n",
        "Rappelez vous que tout d'abord, il fallait \"flatten\" nos images d'entrée de 28*28 à un gros vecteur de taille 784\n",
        "\n",
        "Ensuite, vous pouvez remarquer que les labels que nous avons à notre disposition ne sont pas dans le bon format ! Notre réseau sort un vecteur de probbilités, tandis que les labels dans Y_train sont des entiers. Il faut donc transformer les entiers dans des vecteurs de probabilité. Ceci s'appelle l'encodage one-hot.\n",
        "\n",
        "Exemple :\n",
        "`5` devient` [0, 0, 0, 0, 0, 1, 0, 0, 0, 0] `\n",
        "\n"
      ],
      "metadata": {
        "id": "fJy-gIar7S7Z"
      }
    },
    {
      "cell_type": "code",
      "source": [
        "# On commence par changer la structure de X_train. Nous voulons qqch de la forme (N, 28*28)\n",
        "\n",
        "X_train_flattened = X_train.reshape(-1, 28*28)"
      ],
      "metadata": {
        "id": "nJS9FQCW7hfK"
      },
      "execution_count": 9,
      "outputs": []
    },
    {
      "cell_type": "code",
      "source": [
        "# Appliquons maintenant un encodage one-hot de Y_train\n",
        "\n",
        "Y_train_onehot = np.zeros((Y_train.size, 10 ))\n",
        "Y_train_onehot[np.arange(len(Y_train)), Y_train.astype(int)] = 1\n",
        "\n",
        "# Visualisons la forme de cette nouvelle matrice\n",
        "\n",
        "Y_train_onehot.shape"
      ],
      "metadata": {
        "id": "sG8pmtDj7k_i",
        "colab": {
          "base_uri": "https://localhost:8080/"
        },
        "outputId": "6799fd1e-4481-4e22-c57c-188343f71b5f"
      },
      "execution_count": 10,
      "outputs": [
        {
          "output_type": "execute_result",
          "data": {
            "text/plain": [
              "(48000, 10)"
            ]
          },
          "metadata": {},
          "execution_count": 10
        }
      ]
    },
    {
      "cell_type": "markdown",
      "source": [
        "Nous sommes presque prêts à entrainer. La dernière chose qui reste est de transformer nos arrays type numpy aux tensor type Pytorch. L'object tensor est un object spécifique à Pytorch, qui permet de faire des calculs spécifiques au Deep Learning de manière parallèlisée, donc très efficace.\n",
        "Vous pouvez trouver plus des détails sur internet : https://pytorch.org/tutorials/beginner/introyt/tensors_deeper_tutorial.html\n",
        "\n",
        "Pour ce qui nous concerne, nous allons manipuler les tensors comme des arrays numpy"
      ],
      "metadata": {
        "id": "uIAGyn2A756w"
      }
    },
    {
      "cell_type": "markdown",
      "source": [
        "Maintenant vous allez entrainer votre modèle sur le dataset qui comporte les images (`X_train`) associées à leur label (`Y_train`). Pour cela on utilise la méthode `model.fit(...)`.\n",
        "\n",
        "L'argument epochs correspond au nombre de fois où le dataset est présenté au réseau de neurones. Ici mettez entre 1 et 20 epochs.\n",
        "\n",
        "L'argument validation_data sert à vérifier que votre modèle est bon sur des images qu'il n'a jamais vues (pas utilisées dans l'entrainement), i.e. qu'il n'a pas \"appris\" le dataset par cœur.\n",
        "\n",
        "Documentation : https://www.tensorflow.org/api_docs/python/tf/keras/Model"
      ],
      "metadata": {
        "id": "jhZ8A8ER78m1"
      }
    },
    {
      "cell_type": "code",
      "source": [
        "X_train_torch = torch.tensor(X_train_flattened, dtype = torch.float32)\n",
        "Y_train_onehot_torch = torch.tensor(Y_train_onehot, dtype = torch.float32)"
      ],
      "metadata": {
        "id": "Zq2xmPjW8Uki"
      },
      "execution_count": 11,
      "outputs": []
    },
    {
      "cell_type": "code",
      "source": [
        "Y_train_onehot_torch.dtype, X_train_torch.dtype,"
      ],
      "metadata": {
        "id": "dEX1dFz88WNu",
        "colab": {
          "base_uri": "https://localhost:8080/"
        },
        "outputId": "bf50c567-f5aa-4d28-d971-b744b041df21"
      },
      "execution_count": 12,
      "outputs": [
        {
          "output_type": "execute_result",
          "data": {
            "text/plain": [
              "(torch.float32, torch.float32)"
            ]
          },
          "metadata": {},
          "execution_count": 12
        }
      ]
    },
    {
      "cell_type": "markdown",
      "source": [
        "###Entraînement : la boucle"
      ],
      "metadata": {
        "id": "lOz43OGb8Zv9"
      }
    },
    {
      "cell_type": "code",
      "source": [
        "epochs = 50\n",
        "\n",
        "\n",
        "for _ in range(epochs):\n",
        "    outputs = model(X_train_torch) # Calculer les predictions du modèle\n",
        "\n",
        "    loss = loss_function(outputs, Y_train_onehot_torch) # Calculer la loss\n",
        "\n",
        "    print(loss)\n",
        "\n",
        "    optimizer.zero_grad() # Mettre les gradients à 0\n",
        "\n",
        "    loss.backward() # Faire de la backpropagation\n",
        "    optimizer.step() # Appliquer la formule de mise à jour des poids\n",
        "\n"
      ],
      "metadata": {
        "id": "ftL_S1-58d0Q",
        "colab": {
          "base_uri": "https://localhost:8080/"
        },
        "outputId": "3559d47e-aee9-4ec4-bad8-fd7a6ed87740"
      },
      "execution_count": 13,
      "outputs": [
        {
          "output_type": "stream",
          "name": "stdout",
          "text": [
            "tensor(0.0903, grad_fn=<MseLossBackward0>)\n",
            "tensor(0.0901, grad_fn=<MseLossBackward0>)\n",
            "tensor(0.0900, grad_fn=<MseLossBackward0>)\n",
            "tensor(0.0898, grad_fn=<MseLossBackward0>)\n",
            "tensor(0.0896, grad_fn=<MseLossBackward0>)\n",
            "tensor(0.0894, grad_fn=<MseLossBackward0>)\n",
            "tensor(0.0893, grad_fn=<MseLossBackward0>)\n",
            "tensor(0.0891, grad_fn=<MseLossBackward0>)\n",
            "tensor(0.0889, grad_fn=<MseLossBackward0>)\n",
            "tensor(0.0886, grad_fn=<MseLossBackward0>)\n",
            "tensor(0.0884, grad_fn=<MseLossBackward0>)\n",
            "tensor(0.0881, grad_fn=<MseLossBackward0>)\n",
            "tensor(0.0878, grad_fn=<MseLossBackward0>)\n",
            "tensor(0.0875, grad_fn=<MseLossBackward0>)\n",
            "tensor(0.0872, grad_fn=<MseLossBackward0>)\n",
            "tensor(0.0868, grad_fn=<MseLossBackward0>)\n",
            "tensor(0.0865, grad_fn=<MseLossBackward0>)\n",
            "tensor(0.0861, grad_fn=<MseLossBackward0>)\n",
            "tensor(0.0857, grad_fn=<MseLossBackward0>)\n",
            "tensor(0.0854, grad_fn=<MseLossBackward0>)\n",
            "tensor(0.0849, grad_fn=<MseLossBackward0>)\n",
            "tensor(0.0845, grad_fn=<MseLossBackward0>)\n",
            "tensor(0.0841, grad_fn=<MseLossBackward0>)\n",
            "tensor(0.0836, grad_fn=<MseLossBackward0>)\n",
            "tensor(0.0831, grad_fn=<MseLossBackward0>)\n",
            "tensor(0.0826, grad_fn=<MseLossBackward0>)\n",
            "tensor(0.0821, grad_fn=<MseLossBackward0>)\n",
            "tensor(0.0816, grad_fn=<MseLossBackward0>)\n",
            "tensor(0.0811, grad_fn=<MseLossBackward0>)\n",
            "tensor(0.0805, grad_fn=<MseLossBackward0>)\n",
            "tensor(0.0800, grad_fn=<MseLossBackward0>)\n",
            "tensor(0.0794, grad_fn=<MseLossBackward0>)\n",
            "tensor(0.0788, grad_fn=<MseLossBackward0>)\n",
            "tensor(0.0783, grad_fn=<MseLossBackward0>)\n",
            "tensor(0.0777, grad_fn=<MseLossBackward0>)\n",
            "tensor(0.0771, grad_fn=<MseLossBackward0>)\n",
            "tensor(0.0766, grad_fn=<MseLossBackward0>)\n",
            "tensor(0.0760, grad_fn=<MseLossBackward0>)\n",
            "tensor(0.0754, grad_fn=<MseLossBackward0>)\n",
            "tensor(0.0748, grad_fn=<MseLossBackward0>)\n",
            "tensor(0.0743, grad_fn=<MseLossBackward0>)\n",
            "tensor(0.0737, grad_fn=<MseLossBackward0>)\n",
            "tensor(0.0731, grad_fn=<MseLossBackward0>)\n",
            "tensor(0.0725, grad_fn=<MseLossBackward0>)\n",
            "tensor(0.0719, grad_fn=<MseLossBackward0>)\n",
            "tensor(0.0713, grad_fn=<MseLossBackward0>)\n",
            "tensor(0.0707, grad_fn=<MseLossBackward0>)\n",
            "tensor(0.0701, grad_fn=<MseLossBackward0>)\n",
            "tensor(0.0694, grad_fn=<MseLossBackward0>)\n",
            "tensor(0.0688, grad_fn=<MseLossBackward0>)\n"
          ]
        }
      ]
    },
    {
      "cell_type": "markdown",
      "source": [
        "La loss diminue ! C'est encourageant mais vérifions quand même les performances de notre modèle."
      ],
      "metadata": {
        "id": "Ip8QFf-u8ke6"
      }
    },
    {
      "cell_type": "markdown",
      "source": [
        "###Evaluation du modèle\n",
        "\n",
        "Il faut qu'on prépare les `X_test`et `Y_test`de la même manière que pour `X_train`et `Y_train`.\n",
        "On va quand même se simplifier un peu la vie : plutôt que de mettre nos labels de test en one-hot, on va traduire les prédictions en entier."
      ],
      "metadata": {
        "id": "oKVKPtVC81Mg"
      }
    },
    {
      "cell_type": "code",
      "source": [
        "# Commencons par le changement de dimension et la transformation en tensor\n",
        "\n",
        "X_test_flatten = X_test.reshape(-1, 28*28)\n",
        "X_test_flatten_torch = torch.tensor(X_test_flatten, dtype=torch.float32)\n"
      ],
      "metadata": {
        "id": "24iDHYQQ9Tgh"
      },
      "execution_count": 14,
      "outputs": []
    },
    {
      "cell_type": "markdown",
      "source": [
        "Faisons passer `X_test`à travers le réseau et récupérons la sortie"
      ],
      "metadata": {
        "id": "e1Bct3RT9WBF"
      }
    },
    {
      "cell_type": "code",
      "source": [
        "outputs = model(X_test_flatten_torch)\n",
        "outputs.shape"
      ],
      "metadata": {
        "id": "8sCYcC289c_q",
        "colab": {
          "base_uri": "https://localhost:8080/"
        },
        "outputId": "3f2189a2-75b8-42ea-ee5a-b4d1697400ff"
      },
      "execution_count": 15,
      "outputs": [
        {
          "output_type": "execute_result",
          "data": {
            "text/plain": [
              "torch.Size([12000, 10])"
            ]
          },
          "metadata": {},
          "execution_count": 15
        }
      ]
    },
    {
      "cell_type": "markdown",
      "source": [
        "Transformons maintenant les vecteurs de probabilité en entiers"
      ],
      "metadata": {
        "id": "vCAn6m6s9hCs"
      }
    },
    {
      "cell_type": "code",
      "source": [
        "predicted_labels = outputs.argmax(axis=1)"
      ],
      "metadata": {
        "id": "uG-XDG0j9lsU"
      },
      "execution_count": 16,
      "outputs": []
    },
    {
      "cell_type": "code",
      "source": [
        "diff = predicted_labels - Y_test\n",
        "accuracy = len(diff[diff==0]) / len(diff)\n",
        "accuracy"
      ],
      "metadata": {
        "id": "1YSXtQ0X9ok4",
        "colab": {
          "base_uri": "https://localhost:8080/"
        },
        "outputId": "e7600ffa-8556-4747-9498-d8b251aec004"
      },
      "execution_count": 17,
      "outputs": [
        {
          "output_type": "execute_result",
          "data": {
            "text/plain": [
              "0.53525"
            ]
          },
          "metadata": {},
          "execution_count": 17
        }
      ]
    },
    {
      "cell_type": "markdown",
      "source": [
        "##Améliorations possibles\n",
        "\n",
        "Bravo ! Vous avez entrainé votre réseau et évalué votre modèle. Nous allons maintenant essayer d'améliorer un peu votre boucle d'entraînement.\n",
        "\n",
        "D'abord on va entrainer sur plusieurs epochs, donc on veut afficher la loss que périodiqement. Ensuite, il serait intéressant de tracer l'évolution de notre courbe de loss.\n",
        "Finalement, on pourrait aussi evaluer le modèle à chaque fois qu'on calcule la loss pour avoir une idée plus précise de la performance du modèle"
      ],
      "metadata": {
        "id": "Y4Pu7u7C9rbK"
      }
    },
    {
      "cell_type": "markdown",
      "source": [
        "Commençons par les deux premiers points"
      ],
      "metadata": {
        "id": "SpSYvF_L95gR"
      }
    },
    {
      "cell_type": "code",
      "source": [
        "epochs = 50\n",
        "losses = []\n",
        "\n",
        "for i in range(epochs):\n",
        "    outputs = model(X_train_torch) # Calculer les predictions du modèle\n",
        "\n",
        "    loss = loss_function(outputs, Y_train_onehot_torch) # Calculer la loss\n",
        "    losses.append(loss.item())\n",
        "\n",
        "    optimizer.zero_grad() # Mettre les gradients à 0\n",
        "\n",
        "    loss.backward() # Faire de la backpropagation\n",
        "    optimizer.step() # Appliquer la formule de mise à jour des poids\n",
        "\n",
        "    if i % 10 == 0:\n",
        "        print(loss)\n",
        "\n",
        "\n",
        "print(\"Fin de l'entraînement\")\n",
        "plt.plot(losses)\n"
      ],
      "metadata": {
        "id": "_t4mlNGU98q6",
        "colab": {
          "base_uri": "https://localhost:8080/",
          "height": 551
        },
        "outputId": "037526f4-47da-427d-824a-e253e8a9a593"
      },
      "execution_count": 18,
      "outputs": [
        {
          "output_type": "stream",
          "name": "stdout",
          "text": [
            "tensor(0.0682, grad_fn=<MseLossBackward0>)\n",
            "tensor(0.0613, grad_fn=<MseLossBackward0>)\n",
            "tensor(0.0539, grad_fn=<MseLossBackward0>)\n",
            "tensor(0.0469, grad_fn=<MseLossBackward0>)\n",
            "tensor(0.0407, grad_fn=<MseLossBackward0>)\n",
            "Fin de l'entraînement\n"
          ]
        },
        {
          "output_type": "execute_result",
          "data": {
            "text/plain": [
              "[<matplotlib.lines.Line2D at 0x7835f44f5600>]"
            ]
          },
          "metadata": {},
          "execution_count": 18
        },
        {
          "output_type": "display_data",
          "data": {
            "text/plain": [
              "<Figure size 640x480 with 1 Axes>"
            ],
            "image/png": "[encoded data removed]"
          },
          "metadata": {}
        }
      ]
    },
    {
      "cell_type": "markdown",
      "source": [
        "Et maintenant, écrivons une fonction `evaluate_model()` qui permet de calculer la précision du modèle (*accuracy*)"
      ],
      "metadata": {
        "id": "QjpE4bnj-Cd_"
      }
    },
    {
      "cell_type": "code",
      "source": [
        "def evaluate_model(model):\n",
        "    outputs = model(X_test_flatten_torch)\n",
        "    predicted_labels = outputs.argmax(axis=1)\n",
        "    diff = predicted_labels - Y_test\n",
        "    accuracy = len(diff[diff==0]) / len(diff)\n",
        "    return accuracy"
      ],
      "metadata": {
        "id": "EA5F1T0F-QmG"
      },
      "execution_count": 19,
      "outputs": []
    },
    {
      "cell_type": "markdown",
      "source": [
        "Nous avons tous les éléments maintenant pour créer une bonne boucle d'entraînement. Nous allons redéfinir notre modèle pour initialiser nos poids et commencer table rase (Attention à rédefinir l'optimizer parce que\n",
        "nous avons des nouveaus paramètres maintenant):"
      ],
      "metadata": {
        "id": "1lamfFES-XC9"
      }
    },
    {
      "cell_type": "code",
      "source": [
        "epochs = 300\n",
        "losses = []\n",
        "accuracies = []\n",
        "\n",
        "\n",
        "model = nn.Sequential(\n",
        "    nn.Linear(28*28,16),\n",
        "    nn.ReLU(),\n",
        "    nn.Linear(16,16),\n",
        "    nn.ReLU(),\n",
        "    nn.Linear(16,10),\n",
        "    nn.Softmax(1)\n",
        ")\n",
        "\n",
        "loss_function = nn.MSELoss()\n",
        "optimizer = torch.optim.Adam(model.parameters(), lr=1e-3)\n",
        "\n",
        "print(\"Début de l'entraînement\")\n",
        "\n",
        "for i in range(epochs):\n",
        "    outputs = model(X_train_torch) # Calculer les predictions du modèle\n",
        "\n",
        "    loss = loss_function(outputs, Y_train_onehot_torch) # Calculer la loss\n",
        "    losses.append(loss.item())\n",
        "\n",
        "    optimizer.zero_grad() # Mettre les gradients à 0\n",
        "\n",
        "    loss.backward() # Faire de la backpropagation\n",
        "    optimizer.step() # Appliquer la formule de mise à jour des poids\n",
        "\n",
        "    if i % 50 == 0:\n",
        "        accuracy = evaluate_model(model)\n",
        "        print(f\"Epoch {i} | Loss : {loss} | Accuracy : {accuracy}\")\n",
        "        accuracies.append(accuracy)\n",
        "\n",
        "\n",
        "\n",
        "\n",
        "print(\"Fin de l'entraînement\")\n",
        "plt.plot(losses)\n",
        "plt.figure()\n",
        "plt.plot(accuracies, \"o\", color=\"red\")\n"
      ],
      "metadata": {
        "id": "y_ccGS4--b3c",
        "colab": {
          "base_uri": "https://localhost:8080/",
          "height": 999
        },
        "outputId": "bf007fbd-3f59-47ce-e81f-e6c70ed34302"
      },
      "execution_count": 20,
      "outputs": [
        {
          "output_type": "stream",
          "name": "stdout",
          "text": [
            "Début de l'entraînement\n",
            "Epoch 0 | Loss : 0.09015081822872162 | Accuracy : 0.15183333333333332\n",
            "Epoch 50 | Loss : 0.06679429113864899 | Accuracy : 0.60225\n",
            "Epoch 100 | Loss : 0.02933279424905777 | Accuracy : 0.8531666666666666\n",
            "Epoch 150 | Loss : 0.018812373280525208 | Accuracy : 0.8905833333333333\n",
            "Epoch 200 | Loss : 0.015511885285377502 | Accuracy : 0.9040833333333333\n",
            "Epoch 250 | Loss : 0.013696746900677681 | Accuracy : 0.91325\n",
            "Fin de l'entraînement\n"
          ]
        },
        {
          "output_type": "execute_result",
          "data": {
            "text/plain": [
              "[<matplotlib.lines.Line2D at 0x7835f23d5fc0>]"
            ]
          },
          "metadata": {},
          "execution_count": 20
        },
        {
          "output_type": "display_data",
          "data": {
            "text/plain": [
              "<Figure size 640x480 with 1 Axes>"
            ],
            "image/png": "[encoded data removed]"
          },
          "metadata": {}
        },
        {
          "output_type": "display_data",
          "data": {
            "text/plain": [
              "<Figure size 640x480 with 1 Axes>"
            ],
            "image/png": "[encoded data removed]"
          },
          "metadata": {}
        }
      ]
    },
    {
      "cell_type": "markdown",
      "source": [
        "##Dans la littérature, la meilleure accuracy est de 99.87%, à vous de le battre !"
      ],
      "metadata": {
        "id": "tK4wlmTO-hiy"
      }
    },
    {
      "cell_type": "code",
      "source": [],
      "metadata": {
        "id": "aZGW9FAo-1cQ"
      },
      "execution_count": null,
      "outputs": []
    }
  ]
}